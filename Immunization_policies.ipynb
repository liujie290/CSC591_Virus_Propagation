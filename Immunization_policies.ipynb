{
 "cells": [
  {
   "cell_type": "code",
   "execution_count": 10,
   "metadata": {
    "collapsed": false
   },
   "outputs": [],
   "source": [
    "import networkx as nx\n",
    "import sys\n",
    "import matplotlib.pyplot as plt\n",
    "import random\n",
    "import numpy as np\n",
    "from numpy import linalg as LA\n",
    "from scipy.sparse import csr_matrix \n",
    "from scipy.sparse.linalg import eigs\n",
    "\n",
    "def createGraph(filename):\n",
    "    graphFile = open(filename)\n",
    "    edges = graphFile.read().splitlines()\n",
    "    vertices = range(int(edges[0].split(' ')[0]))\n",
    "    edges = map( lambda x: (int(x.split(' ')[0]),int(x.split(' ')[1])) , edges[1:] )\n",
    "    g = nx.Graph()\n",
    "    g.add_nodes_from(vertices)\n",
    "    g.add_edges_from(edges)\n",
    "    return g\n",
    "\n",
    "graph = createGraph(\"static.network\")"
   ]
  },
  {
   "cell_type": "code",
   "execution_count": 11,
   "metadata": {
    "collapsed": false
   },
   "outputs": [
    {
     "name": "stdout",
     "output_type": "stream",
     "text": [
      "\n",
      "Policy A: Select k  random nodes for immunization.\n",
      "\n",
      "Strength of virus for immunized network is: (12.3313825158+0j)\n"
     ]
    },
    {
     "data": {
      "image/png": "[encoded data removed]",
      "text/plain": [
       "<matplotlib.figure.Figure at 0x7f1bf8127810>"
      ]
     },
     "metadata": {},
     "output_type": "display_data"
    }
   ],
   "source": [
    "def immunize_k_random(graph, k):\n",
    "    nodes = nx.number_of_nodes(graph)\n",
    "    rand_nodes = random.sample(range(0, nodes), k)\n",
    "    new_graph = graph.copy()\n",
    "    new_graph.remove_nodes_from(rand_nodes)\n",
    "    \n",
    "    return new_graph\n",
    "\n",
    "def immunize_k_highest_degree(graph, k):\n",
    "    degrees = graph.degree()\n",
    "    sorted_degrees = sorted(degrees, key=degrees.get)\n",
    "    highest_degrees = sorted_degrees[-k:]\n",
    "    new_graph = graph.copy()\n",
    "    new_graph.remove_nodes_from(highest_degrees)\n",
    "    \n",
    "    return new_graph\n",
    "\n",
    "def immunize_k(graph, k):\n",
    "    degrees = graph.degree()\n",
    "    sorted_degrees = sorted(degrees, key=degrees.get)\n",
    "    highest_degrees = sorted_degrees[-k:]\n",
    "    new_graph = graph.copy()\n",
    "    \n",
    "    for vertex in reversed(highest_degrees):\n",
    "        new_graph.remove_node(vertex)\n",
    "        degrees = new_graph.degree()\n",
    "        sorted_degrees = sorted(degrees, key=degrees.get)\n",
    "        highest_degrees = sorted_degrees[-k:]\n",
    "    \n",
    "    return new_graph\n",
    "\n",
    "def immunize_k_eigenvalues(graph, k):\n",
    "    \n",
    "    A= nx.adjacency_matrix(graph)\n",
    "    A2 = csr_matrix(A,dtype=np.float)\n",
    "    w,v = eigs(A2)\n",
    "    \n",
    "    lrgst_ev_index = np.argmax(w)\n",
    "    largest_vector = v[:,lrgst_ev_index]\n",
    "    nodes = np.argsort(largest_vector)\n",
    "    nodes = nodes[-k:]\n",
    "    \n",
    "    new_graph = graph.copy()\n",
    "    new_graph.remove_nodes_from(nodes)\n",
    "    \n",
    "    return new_graph\n",
    "\n",
    "def get_strength(lambda1, beta, delta):\n",
    "    return lambda1*(beta/delta)\n",
    "\n",
    "\n",
    "k_values = np.arange(50,250,50)\n",
    "beta = 0.2\n",
    "delta = 0.7\n",
    "\n",
    "print(\"\\nPolicy A: Select k  random nodes for immunization.\")\n",
    "immunized_graph_policyA = immunize_k_random(graph, 200)\n",
    "A= nx.adjacency_matrix(immunized_graph_policyA)\n",
    "A2 = csr_matrix(A,dtype=np.float)\n",
    "eg_val = eigs(A2)[0]\n",
    "lambda1 = max(eg_val)\n",
    "\n",
    "print(\"\\nStrength of virus for immunized network is: \"+str(get_strength(lambda1,0.2,0.7)))\n",
    "\n",
    "strengths = []\n",
    "for k in k_values:\n",
    "    immunized_graph_policyA = immunize_k_random(graph, k)\n",
    "    A= nx.adjacency_matrix(immunized_graph_policyA)\n",
    "    A2 = csr_matrix(A,dtype=np.float)\n",
    "    eg_val = eigs(A2)[0]\n",
    "    lambda1 = max(eg_val)\n",
    "    strengths.append(lambda1*(beta/delta))\n",
    "\n",
    "plt.plot(k_values, strengths, 'ro')\n",
    "plt.show()\n",
    "\n"
   ]
  },
  {
   "cell_type": "code",
   "execution_count": 12,
   "metadata": {
    "collapsed": false
   },
   "outputs": [
    {
     "name": "stdout",
     "output_type": "stream",
     "text": [
      "\n",
      "Policy B: Select the k  nodes with highest degree for immunization.\n",
      "\n",
      "Strength of virus for immunized network is: (1.08027548024+0j)\n"
     ]
    },
    {
     "data": {
      "image/png": "[encoded data removed]",
      "text/plain": [
       "<matplotlib.figure.Figure at 0x7f1bf81c0410>"
      ]
     },
     "metadata": {},
     "output_type": "display_data"
    }
   ],
   "source": [
    "print(\"\\nPolicy B: Select the k  nodes with highest degree for immunization.\")\n",
    "immunized_graph_policyB = immunize_k_highest_degree(graph, 200)\n",
    "A= nx.adjacency_matrix(immunized_graph_policyB)\n",
    "A2 = csr_matrix(A,dtype=np.float)\n",
    "eg_val = eigs(A2)[0]\n",
    "lambda1 = max(eg_val)\n",
    "\n",
    "print(\"\\nStrength of virus for immunized network is: \"+str(get_strength(lambda1,0.2,0.7)))\n",
    "\n",
    "strengths = []\n",
    "for k in k_values:\n",
    "    immunized_graph_policyB = immunize_k_highest_degree(graph, k)\n",
    "    A= nx.adjacency_matrix(immunized_graph_policyB)\n",
    "    A2 = csr_matrix(A,dtype=np.float)\n",
    "    eg_val = eigs(A2)[0]\n",
    "    lambda1 = max(eg_val)\n",
    "    strengths.append(lambda1*(beta/delta))\n",
    "    \n",
    "\n",
    "plt.plot(k_values, strengths, 'ro')\n",
    "plt.show()\n",
    "\n"
   ]
  },
  {
   "cell_type": "code",
   "execution_count": 13,
   "metadata": {
    "collapsed": false
   },
   "outputs": [
    {
     "name": "stdout",
     "output_type": "stream",
     "text": [
      "\n",
      "Policy   C:   Select   the   node   with   the   highest   degree   for   immunization.   Remove   this   node   (and   its  incident edges) from the contact network. Repeat until all vaccines are administered. \n",
      "\n",
      "Strength of virus for immunized network is: (1.08027548024+0j)\n"
     ]
    },
    {
     "data": {
      "image/png": "[encoded data removed]",
      "text/plain": [
       "<matplotlib.figure.Figure at 0x7f1bdd940350>"
      ]
     },
     "metadata": {},
     "output_type": "display_data"
    }
   ],
   "source": [
    "print(\"\\nPolicy   C:   Select   the   node   with   the   highest   degree   for   immunization.   Remove   this   node   (and   its  incident edges) from the contact network. Repeat until all vaccines are administered. \")\n",
    "immunized_graph_policyC = immunize_k(graph, 200)\n",
    "A= nx.adjacency_matrix(immunized_graph_policyC)\n",
    "A2 = csr_matrix(A,dtype=np.float)\n",
    "eg_val = eigs(A2)[0]\n",
    "lambda1 = max(eg_val)\n",
    "\n",
    "print(\"\\nStrength of virus for immunized network is: \"+str(get_strength(lambda1,0.2,0.7)))\n",
    "\n",
    "strengths = []\n",
    "for k in k_values:\n",
    "    immunized_graph_policyC = immunize_k_highest_degree(graph, k)\n",
    "    A= nx.adjacency_matrix(immunized_graph_policyC)\n",
    "    A2 = csr_matrix(A,dtype=np.float)\n",
    "    eg_val = eigs(A2)[0]\n",
    "    lambda1 = max(eg_val)\n",
    "    strengths.append(lambda1*(beta/delta))\n",
    "    \n",
    "\n",
    "plt.plot(k_values, strengths, 'ro')\n",
    "plt.show()\n",
    "\n",
    "\n"
   ]
  },
  {
   "cell_type": "code",
   "execution_count": 14,
   "metadata": {
    "collapsed": false
   },
   "outputs": [
    {
     "name": "stdout",
     "output_type": "stream",
     "text": [
      "Policy   D:   Find   the   eigenvector   corresponding   to   the   largest   eigenvalue   of   the   contact   network’s  adjacency   matrix.   Find   the   ​ k   largest   (absolute)   values   in   the   eigenvector.   Select   the   ​ k   nodes   at   the  corresponding positions in the eigenvector. \n",
      "\n",
      "Strength of virus for immunized network is: (3.0705278823+0j)\n"
     ]
    },
    {
     "data": {
      "image/png": "[encoded data removed]",
      "text/plain": [
       "<matplotlib.figure.Figure at 0x7f1bc47ef3d0>"
      ]
     },
     "metadata": {},
     "output_type": "display_data"
    }
   ],
   "source": [
    "print(\"Policy   D:   Find   the   eigenvector   corresponding   to   the   largest   eigenvalue   of   the   contact   network’s  adjacency   matrix.   Find   the   ​ k   largest   (absolute)   values   in   the   eigenvector.   Select   the   ​ k   nodes   at   the  corresponding positions in the eigenvector. \")\n",
    "immunized_graph_policyD = immunize_k_eigenvalues(graph, 200)\n",
    "A= nx.adjacency_matrix(immunized_graph_policyD)\n",
    "A2 = csr_matrix(A,dtype=np.float)\n",
    "eg_val = eigs(A2)[0]\n",
    "lambda1 = max(eg_val)\n",
    "print(\"\\nStrength of virus for immunized network is: \"+str(lambda1*(beta/delta)))\n",
    "\n",
    "strn = []\n",
    "for k in k_values:\n",
    "    immunized_graph_policyD = immunize_k_eigenvalues(graph, k)\n",
    "    A= nx.adjacency_matrix(immunized_graph_policyD)\n",
    "    A2 = csr_matrix(A,dtype=np.float)\n",
    "    eg_val = eigs(A2)[0]\n",
    "    lambda1 = max(eg_val)\n",
    "    strn.append(lambda1*(beta/delta))\n",
    "    \n",
    "\n",
    "plt.plot(k_values, strn, 'ro')\n",
    "plt.show()"
   ]
  },
  {
   "cell_type": "code",
   "execution_count": null,
   "metadata": {
    "collapsed": true
   },
   "outputs": [],
   "source": []
  }
 ],
 "metadata": {
  "kernelspec": {
   "display_name": "Python 2",
   "language": "python",
   "name": "python2"
  },
  "language_info": {
   "codemirror_mode": {
    "name": "ipython",
    "version": 2
   },
   "file_extension": ".py",
   "mimetype": "text/x-python",
   "name": "python",
   "nbconvert_exporter": "python",
   "pygments_lexer": "ipython2",
   "version": "2.7.12"
  }
 },
 "nbformat": 4,
 "nbformat_minor": 1
}
